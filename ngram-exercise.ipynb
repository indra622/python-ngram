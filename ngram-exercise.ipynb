{
 "cells": [
  {
   "cell_type": "code",
   "execution_count": 1,
   "metadata": {},
   "outputs": [],
   "source": [
    "import math\n",
    "import nltk"
   ]
  },
  {
   "cell_type": "code",
   "execution_count": 2,
   "metadata": {},
   "outputs": [],
   "source": [
    "with open('train.txt', 'r') as f:\n",
    "    train = [i.strip() for i in f.readlines()]\n",
    "with open('test.txt', 'r') as f:\n",
    "    test = [i.strip() for i in f.readlines()]"
   ]
  },
  {
   "cell_type": "code",
   "execution_count": 3,
   "metadata": {},
   "outputs": [],
   "source": [
    "SOS = '<s>'\n",
    "EOS = '</s>'\n",
    "\n",
    "sentences = [ '{} {} {}'.format(SOS, s, EOS) for s in train]\n",
    "tokens = ' '.join(sentences).split(\" \")"
   ]
  },
  {
   "cell_type": "code",
   "execution_count": 4,
   "metadata": {},
   "outputs": [],
   "source": [
    "n = 2\n",
    "vocab = nltk.FreqDist(tokens)\n",
    "\n",
    "if n == 1:\n",
    "    num_tokens = len(tokens)\n",
    "    ngram = { (unigram,): count / num_tokens for unigram, count in vocab.items() }\n",
    "\n",
    "else:\n",
    "    vocab_size = len(vocab)\n",
    "    ngrams = nltk.ngrams(tokens, n)\n",
    "    nvocab = nltk.FreqDist(ngrams)\n",
    "    ngram = { gram: count / vocab_size for gram, count in nvocab.items() }"
   ]
  },
  {
   "cell_type": "code",
   "execution_count": 5,
   "metadata": {},
   "outputs": [],
   "source": [
    "test_sentences = [ '{} {} {}'.format(SOS, s, EOS) for s in test]\n",
    "test_tokens = ' '.join(test_sentences).split(\" \")\n",
    "test_ngrams = nltk.ngrams(test_tokens, n)\n",
    "\n",
    "num_test_tokens = len(test_tokens)\n",
    "\n",
    "probabilities = [ ngram[ng] for ng in test_ngrams ]"
   ]
  },
  {
   "cell_type": "code",
   "execution_count": 6,
   "metadata": {},
   "outputs": [],
   "source": [
    "ppl = math.exp((-1/num_test_tokens) * sum(map(math.log, probabilities)))"
   ]
  },
  {
   "cell_type": "code",
   "execution_count": 7,
   "metadata": {},
   "outputs": [
    {
     "name": "stdout",
     "output_type": "stream",
     "text": [
      "1345.8797552415529\n"
     ]
    }
   ],
   "source": [
    "print(ppl)"
   ]
  },
  {
   "cell_type": "code",
   "execution_count": null,
   "metadata": {},
   "outputs": [],
   "source": []
  }
 ],
 "metadata": {
  "kernelspec": {
   "display_name": "Python 3",
   "language": "python",
   "name": "python3"
  },
  "language_info": {
   "codemirror_mode": {
    "name": "ipython",
    "version": 3
   },
   "file_extension": ".py",
   "mimetype": "text/x-python",
   "name": "python",
   "nbconvert_exporter": "python",
   "pygments_lexer": "ipython3",
   "version": "3.7.9"
  }
 },
 "nbformat": 4,
 "nbformat_minor": 4
}

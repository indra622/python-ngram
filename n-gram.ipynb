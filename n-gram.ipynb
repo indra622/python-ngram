{
  "nbformat": 4,
  "nbformat_minor": 0,
  "metadata": {
    "colab": {
      "name": "Untitled6.ipynb",
      "provenance": []
    },
    "kernelspec": {
      "name": "python3",
      "display_name": "Python 3"
    },
    "language_info": {
      "name": "python"
    }
  },
  "cells": [
    {
      "cell_type": "code",
      "metadata": {
        "id": "Bexr_jrbV3yk"
      },
      "source": [
        "import math\n",
        "import nltk"
      ],
      "execution_count": null,
      "outputs": []
    },
    {
      "cell_type": "code",
      "metadata": {
        "colab": {
          "base_uri": "https://localhost:8080/"
        },
        "id": "bEngFc85-XsN",
        "outputId": "610aa42a-cb26-4e26-82da-caeb8793e6f1"
      },
      "source": [
        "from google.colab import drive\n",
        "drive.mount('/content/gdrive')"
      ],
      "execution_count": null,
      "outputs": [
        {
          "output_type": "stream",
          "text": [
            "Mounted at /content/gdrive\n"
          ],
          "name": "stdout"
        }
      ]
    },
    {
      "cell_type": "code",
      "metadata": {
        "id": "DixdHrrSV75U"
      },
      "source": [
        "with open('/content/gdrive/My Drive/train.txt', 'r') as f:\n",
        "    train = [i.strip() for i in f.readlines()]\n",
        "with open('/content/gdrive/My Drive/test.txt', 'r') as f:\n",
        "    test = [i.strip() for i in f.readlines()]"
      ],
      "execution_count": null,
      "outputs": []
    },
    {
      "cell_type": "code",
      "metadata": {
        "id": "xFy8qFkVV-mC"
      },
      "source": [
        "SOS = '<s>'\n",
        "EOS = '</s>'\n",
        "\n",
        "sentences = [ '{} {} {}'.format(SOS, s, EOS) for s in train]\n",
        "tokens = ' '.join(sentences).split(\" \")"
      ],
      "execution_count": null,
      "outputs": []
    },
    {
      "cell_type": "code",
      "metadata": {
        "colab": {
          "base_uri": "https://localhost:8080/"
        },
        "id": "U1rnI_thWBM_",
        "outputId": "fc70a297-7d1b-4449-e96a-23237c195084"
      },
      "source": [
        "n = 2\n",
        "vocab = nltk.FreqDist(tokens)\n",
        "\n",
        "if n == 1:\n",
        "    num_tokens = len(tokens)\n",
        "    ngram = { unigram : count / num_tokens for unigram, count in vocab.items() }\n",
        "\n",
        "else:\n",
        "    vocab_size = len(vocab)\n",
        "    ngrams = nltk.ngrams(tokens, n)\n",
        "    pgrams = nltk.ngrams(tokens, n-1)\n",
        "    nvocab = nltk.FreqDist(ngrams)\n",
        "    pvocab = nltk.FreqDist(pgrams)\n",
        "    cnt = {}\n",
        "    for gram, count in pvocab.items():\n",
        "        cnt[gram] = count\n",
        "    ngram = {}\n",
        "    for gram, count in nvocab.items():\n",
        "        pgram = gram[0:-1]\n",
        "        ngram[gram] = count/cnt[pgram]"
      ],
      "execution_count": null,
      "outputs": [
        {
          "output_type": "stream",
          "text": [
            "('<s>', 'K.') 0.6666666666666666\n",
            "('K.', 'Cay') 0.5\n",
            "('Cay', '</s>') 1.0\n",
            "('</s>', '<s>') 0.6666666666666666\n",
            "('K.', 'Ache') 0.5\n",
            "('Ache', '</s>') 1.0\n",
            "('<s>', 'Cay') 0.3333333333333333\n"
          ],
          "name": "stdout"
        }
      ]
    },
    {
      "cell_type": "code",
      "metadata": {
        "id": "0MrdHr89WDYq"
      },
      "source": [
        "test_sentences = [ '{} {} {}'.format(SOS, s, EOS) for s in test]\n",
        "test_tokens = ' '.join(test_sentences).split(\" \")\n",
        "test_ngrams = nltk.ngrams(test_tokens, n)\n",
        "num_test_tokens = len(test_tokens)\n",
        "probabilities = [ ngram[ng] for ng in test_ngrams ]"
      ],
      "execution_count": null,
      "outputs": []
    },
    {
      "cell_type": "code",
      "metadata": {
        "id": "HuYdvkv2WFXZ"
      },
      "source": [
        "ppl = math.exp((-1/num_test_tokens) * sum(map(math.log, probabilities)))"
      ],
      "execution_count": null,
      "outputs": []
    }
  ]
}